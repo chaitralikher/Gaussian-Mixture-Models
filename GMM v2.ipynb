{
 "cells": [
  {
   "cell_type": "markdown",
   "metadata": {},
   "source": [
    "## GMM Algorithm for classifying Gaussian datapoints into respective clusters "
   ]
  },
  {
   "cell_type": "code",
   "execution_count": 56,
   "metadata": {},
   "outputs": [],
   "source": [
    "import numpy as np\n",
    "import matplotlib.pyplot as plt\n",
    "import random\n",
    "import math\n",
    "from sklearn.metrics import mean_squared_error\n",
    "from sklearn.metrics import accuracy_score"
   ]
  },
  {
   "cell_type": "code",
   "execution_count": 57,
   "metadata": {},
   "outputs": [],
   "source": [
    "def create_data(var):\n",
    "    np.random.seed(1)\n",
    "    x1=np.random.normal(0,var,50)\n",
    "    x2=np.random.normal(5,var,50)\n",
    "    x3=np.random.normal(10,var,50)\n",
    "    X1 = np.concatenate([x1,x2])\n",
    "    X=np.concatenate([X1,x3])\n",
    "    np.random.shuffle(X)\n",
    "    return X,x1,x2,x3"
   ]
  },
  {
   "cell_type": "markdown",
   "metadata": {},
   "source": [
    "### Create labels for data:"
   ]
  },
  {
   "cell_type": "code",
   "execution_count": 58,
   "metadata": {},
   "outputs": [],
   "source": [
    "def get_true_label(X):\n",
    "#true labels\n",
    "    y=[]\n",
    "    for i in X:\n",
    "        if i in x1:\n",
    "            y.append(0)\n",
    "        elif i in x2:\n",
    "            y.append(1)\n",
    "        else:\n",
    "            y.append(2)\n",
    "    y=np.asarray(y)\n",
    "    return y"
   ]
  },
  {
   "cell_type": "markdown",
   "metadata": {},
   "source": [
    "### Initialize Initial Mean,Variance and Probability values:\n",
    "#### Here, means for cluster 1,2 and 3 are 2,3 and 8 respectively. All variances are initialized to 1 and prior probability of a data point belonging to a certain cluster is 1/3 i.e. a data-point may belong to any of the 3 clusters equally.The posterior probability is 0 for all data-points in the clusters."
   ]
  },
  {
   "cell_type": "code",
   "execution_count": 59,
   "metadata": {},
   "outputs": [],
   "source": [
    "def initialize():\n",
    "    #prior probability=1/3\n",
    "    weights = np.ones((k)) / k\n",
    "    #randomized initial means\n",
    "    m = np.asarray([2.,3.,8.]) \n",
    "    #initial variances:\n",
    "    v=[1.,1.,1.]\n",
    "    #posterior probability that each input belongs to each of the 3 gaussians\n",
    "    probability=np.zeros((len(X),k),dtype=float)\n",
    "    return m, v,weights,probability"
   ]
  },
  {
   "cell_type": "markdown",
   "metadata": {},
   "source": [
    "### Expectation-Maximization Algorithm: Takes X,y,Variance as input and tries to predict the GMM where the data point belongs "
   ]
  },
  {
   "cell_type": "code",
   "execution_count": 60,
   "metadata": {},
   "outputs": [],
   "source": [
    "N=len(X)\n",
    "k=3\n",
    "def EM(X,y,real_var):\n",
    "    \n",
    "    pie=math.pi\n",
    "    iterations=5\n",
    "    epochs=range(1,iterations+1)\n",
    "    real_mean=[0,5,10]\n",
    "    acc=[]\n",
    "    #initialize mean,variance,prior probability, posterior probability\n",
    "    means,variances,w,likelihood=initialize()\n",
    "    \n",
    "    for step in range(iterations):\n",
    "        pred_means=[]\n",
    "        pred_var=[]\n",
    "        \n",
    "        #Expection Step : Calculating Posterior probabilities\n",
    "        for i in range(N):\n",
    "            for j in range(k):\n",
    "                likelihood[i][j]=w[j]*((1/math.sqrt(2*pie*(variances[j]))) * (np.exp((-1./2.)*((X[i]-means[j])**2.)/(variances[j]))))\n",
    "            \n",
    "            likelihood[i]=likelihood[i]/np.sum(likelihood[i])\n",
    "            \n",
    "        #Maximization Step: update values of the means, variances and prior probabilities\n",
    "        for i in range(k):\n",
    "            w[i]=np.sum(likelihood[:,i])/N\n",
    "            means[i]=np.dot(likelihood[:,i],X[:].T)/(np.sum(likelihood[:,i]))\n",
    "            variances[i]=np.dot(likelihood[:,i],((X-means[i])**2).T)/(np.sum(likelihood[:,i]))\n",
    "           \n",
    "        #prediction of cluster\n",
    "        cluster=[]\n",
    "        for i in range(N):\n",
    "            cluster.append(np.argmax(likelihood[i]))\n",
    "            \n",
    "        print(\"Epoch\",step+1)\n",
    "        print(\"Mean squared Error for means: \"+str(mean_squared_error(real_mean,means)))\n",
    "        print(\"Mean squared Error for variance: \"+str(mean_squared_error(real_var,variances)))\n",
    "        a=accuracy_score(y,cluster)*100\n",
    "        acc.append(a)\n",
    "        print(\"Overall accuracy score: \"+str(a)+\"%\")\n",
    "        \n",
    "        print(\"Number of samples classifed for Gaussian Models 1: \",cluster.count(0))\n",
    "        print(\"Number of samples classifed for Gaussian Models 2: \",cluster.count(1))\n",
    "        print(\"Number of samples classifed for Gaussian Models 3: \",cluster.count(2))\n",
    "    plt.plot(epochs,acc,'g')\n",
    "    plt.title('Accuracy of Training')        \n",
    "    plt.xlabel('Epochs')\n",
    "    plt.ylabel('Accuracy')\n",
    "    plt.show()\n",
    "        \n",
    "        \n",
    "        \n"
   ]
  },
  {
   "cell_type": "markdown",
   "metadata": {},
   "source": [
    "### Different Model Configurations and their Outputs:"
   ]
  },
  {
   "cell_type": "code",
   "execution_count": 61,
   "metadata": {},
   "outputs": [],
   "source": [
    "X,x1,x2,x3=create_data(1)"
   ]
  },
  {
   "cell_type": "markdown",
   "metadata": {},
   "source": [
    "### Data Visualization for Input Gaussian Models \n",
    "#### Variance=1. Means=0,5,10"
   ]
  },
  {
   "cell_type": "code",
   "execution_count": 71,
   "metadata": {},
   "outputs": [
    {
     "data": {
      "image/png": "[encoded data removed]",
      "text/plain": [
       "<Figure size 576x432 with 1 Axes>"
      ]
     },
     "metadata": {},
     "output_type": "display_data"
    }
   ],
   "source": [
    "import scipy.stats as ss\n",
    "x=np.linspace(-6,6,400)\n",
    "y=np.linspace(-6,6,400)\n",
    "fig,ax=plt.subplots(1,1,figsize=(8,6))\n",
    "x,y=np.meshgrid(x,y)\n",
    "\n",
    "plt.xlabel('x')\n",
    "plt.ylabel('y')\n",
    "\n",
    "mu1 = 0\n",
    "mu2=5\n",
    "mu3=10\n",
    "sigma = 1\n",
    "\n",
    "y1 = ss.norm.cdf(x1, mu1, sigma) \n",
    "y2 = ss.norm.cdf(x2, mu2, sigma) \n",
    "y3 = ss.norm.cdf(x3, mu3, sigma)\n",
    "plt.scatter(x1, y1, label='Model 1',lw=2)\n",
    "plt.scatter(x2, y2, label='Model 2',lw=2)\n",
    "plt.scatter(x3, y3, label='Model 3',lw=2)\n",
    "plt.legend()\n",
    "plt.show()"
   ]
  },
  {
   "cell_type": "code",
   "execution_count": 63,
   "metadata": {},
   "outputs": [
    {
     "name": "stdout",
     "output_type": "stream",
     "text": [
      "Epoch 1\n",
      "Mean squared Error for means: 0.5209166023494022\n",
      "Mean squared Error for variance: 4.073187457423945\n",
      "Overall accuracy score: 90.0%\n",
      "Number of samples classifed for Gaussian Models 1:  50\n",
      "Number of samples classifed for Gaussian Models 2:  35\n",
      "Number of samples classifed for Gaussian Models 3:  65\n",
      "Epoch 2\n",
      "Mean squared Error for means: 0.2342519750874054\n",
      "Mean squared Error for variance: 2.822487343836046\n",
      "Overall accuracy score: 96.0%\n",
      "Number of samples classifed for Gaussian Models 1:  50\n",
      "Number of samples classifed for Gaussian Models 2:  44\n",
      "Number of samples classifed for Gaussian Models 3:  56\n",
      "Epoch 3\n",
      "Mean squared Error for means: 0.08778972278480357\n",
      "Mean squared Error for variance: 1.3210021134609244\n",
      "Overall accuracy score: 98.66666666666667%\n",
      "Number of samples classifed for Gaussian Models 1:  50\n",
      "Number of samples classifed for Gaussian Models 2:  48\n",
      "Number of samples classifed for Gaussian Models 3:  52\n",
      "Epoch 4\n",
      "Mean squared Error for means: 0.014528654116300397\n",
      "Mean squared Error for variance: 0.2783548732262757\n",
      "Overall accuracy score: 99.33333333333333%\n",
      "Number of samples classifed for Gaussian Models 1:  50\n",
      "Number of samples classifed for Gaussian Models 2:  49\n",
      "Number of samples classifed for Gaussian Models 3:  51\n",
      "Epoch 5\n",
      "Mean squared Error for means: 0.004321087612032157\n",
      "Mean squared Error for variance: 0.07922987800558873\n",
      "Overall accuracy score: 99.33333333333333%\n",
      "Number of samples classifed for Gaussian Models 1:  50\n",
      "Number of samples classifed for Gaussian Models 2:  49\n",
      "Number of samples classifed for Gaussian Models 3:  51\n"
     ]
    },
    {
     "data": {
      "image/png": "[encoded data removed]",
      "text/plain": [
       "<Figure size 432x288 with 1 Axes>"
      ]
     },
     "metadata": {},
     "output_type": "display_data"
    }
   ],
   "source": [
    "y=get_true_label(X)\n",
    "real_var=[1,1,1]\n",
    "EM(X,y,real_var)"
   ]
  },
  {
   "cell_type": "code",
   "execution_count": 66,
   "metadata": {},
   "outputs": [
    {
     "name": "stdout",
     "output_type": "stream",
     "text": [
      "Epoch 1\n",
      "Mean squared Error for means: 0.5909022146884005\n",
      "Mean squared Error for variance: 4.014165217519089\n",
      "Overall accuracy score: 88.0%\n",
      "Number of samples classifed for Gaussian Models 1:  49\n",
      "Number of samples classifed for Gaussian Models 2:  34\n",
      "Number of samples classifed for Gaussian Models 3:  67\n",
      "Epoch 2\n",
      "Mean squared Error for means: 0.3164266524332999\n",
      "Mean squared Error for variance: 3.428734767320283\n",
      "Overall accuracy score: 92.0%\n",
      "Number of samples classifed for Gaussian Models 1:  49\n",
      "Number of samples classifed for Gaussian Models 2:  40\n",
      "Number of samples classifed for Gaussian Models 3:  61\n",
      "Epoch 3\n",
      "Mean squared Error for means: 0.1761738769358471\n",
      "Mean squared Error for variance: 2.338764254686493\n",
      "Overall accuracy score: 95.33333333333334%\n",
      "Number of samples classifed for Gaussian Models 1:  49\n",
      "Number of samples classifed for Gaussian Models 2:  45\n",
      "Number of samples classifed for Gaussian Models 3:  56\n",
      "Epoch 4\n",
      "Mean squared Error for means: 0.07291942096595021\n",
      "Mean squared Error for variance: 1.1670823440682405\n",
      "Overall accuracy score: 98.0%\n",
      "Number of samples classifed for Gaussian Models 1:  49\n",
      "Number of samples classifed for Gaussian Models 2:  49\n",
      "Number of samples classifed for Gaussian Models 3:  52\n",
      "Epoch 5\n",
      "Mean squared Error for means: 0.01934175172381687\n",
      "Mean squared Error for variance: 0.4241968712490006\n",
      "Overall accuracy score: 98.0%\n",
      "Number of samples classifed for Gaussian Models 1:  51\n",
      "Number of samples classifed for Gaussian Models 2:  47\n",
      "Number of samples classifed for Gaussian Models 3:  52\n"
     ]
    },
    {
     "data": {
      "image/png": "[encoded data removed]",
      "text/plain": [
       "<Figure size 432x288 with 1 Axes>"
      ]
     },
     "metadata": {},
     "output_type": "display_data"
    }
   ],
   "source": [
    "X,x1,x2,x3=create_data(1.2)\n",
    "\n",
    "y=get_true_label(X)\n",
    "real_var=[1.2,1.2,1.2]\n",
    "EM(X,y,real_var)"
   ]
  },
  {
   "cell_type": "code",
   "execution_count": 67,
   "metadata": {},
   "outputs": [
    {
     "name": "stdout",
     "output_type": "stream",
     "text": [
      "Epoch 1\n",
      "Mean squared Error for means: 0.7008317013402324\n",
      "Mean squared Error for variance: 5.62289675745258\n",
      "Overall accuracy score: 76.66666666666667%\n",
      "Number of samples classifed for Gaussian Models 1:  46\n",
      "Number of samples classifed for Gaussian Models 2:  31\n",
      "Number of samples classifed for Gaussian Models 3:  73\n",
      "Epoch 2\n",
      "Mean squared Error for means: 0.5638847158318119\n",
      "Mean squared Error for variance: 7.005367665889846\n",
      "Overall accuracy score: 78.0%\n",
      "Number of samples classifed for Gaussian Models 1:  45\n",
      "Number of samples classifed for Gaussian Models 2:  33\n",
      "Number of samples classifed for Gaussian Models 3:  72\n",
      "Epoch 3\n",
      "Mean squared Error for means: 0.5008925810393295\n",
      "Mean squared Error for variance: 7.378163663083797\n",
      "Overall accuracy score: 79.33333333333333%\n",
      "Number of samples classifed for Gaussian Models 1:  45\n",
      "Number of samples classifed for Gaussian Models 2:  37\n",
      "Number of samples classifed for Gaussian Models 3:  68\n",
      "Epoch 4\n",
      "Mean squared Error for means: 0.45919447333477187\n",
      "Mean squared Error for variance: 7.528131705802591\n",
      "Overall accuracy score: 79.33333333333333%\n",
      "Number of samples classifed for Gaussian Models 1:  46\n",
      "Number of samples classifed for Gaussian Models 2:  37\n",
      "Number of samples classifed for Gaussian Models 3:  67\n",
      "Epoch 5\n",
      "Mean squared Error for means: 0.4216450114749586\n",
      "Mean squared Error for variance: 7.491153824990019\n",
      "Overall accuracy score: 80.66666666666666%\n",
      "Number of samples classifed for Gaussian Models 1:  46\n",
      "Number of samples classifed for Gaussian Models 2:  39\n",
      "Number of samples classifed for Gaussian Models 3:  65\n"
     ]
    },
    {
     "data": {
      "image/png": "[encoded data removed]",
      "text/plain": [
       "<Figure size 432x288 with 1 Axes>"
      ]
     },
     "metadata": {},
     "output_type": "display_data"
    }
   ],
   "source": [
    "X,x1,x2,x3=create_data(2.3)\n",
    "real_var=[2.3,2.3,2.3]\n",
    "y=get_true_label(X)\n",
    "EM(X,y,real_var)"
   ]
  }
 ],
 "metadata": {
  "kernelspec": {
   "display_name": "Python 3",
   "language": "python",
   "name": "python3"
  },
  "language_info": {
   "codemirror_mode": {
    "name": "ipython",
    "version": 3
   },
   "file_extension": ".py",
   "mimetype": "text/x-python",
   "name": "python",
   "nbconvert_exporter": "python",
   "pygments_lexer": "ipython3",
   "version": "3.6.5"
  }
 },
 "nbformat": 4,
 "nbformat_minor": 2
}
